{
 "cells": [
  {
   "cell_type": "markdown",
   "id": "4db61226",
   "metadata": {},
   "source": [
    "## Les boucles et les conditions\n",
    "\n",
    "Conditions __if__, __elif__, __else__ effectue une action si une condition est remplie  \n",
    "Boucle __for__: parcoure tous les éléments d'une liste  \n",
    "Boucle __while__: continue tant que la condition est vraie  \n",
    "Erreurs: traite les erreurs et continue si voulu"
   ]
  },
  {
   "cell_type": "markdown",
   "id": "18f2def3",
   "metadata": {},
   "source": [
    "### Conditions"
   ]
  },
  {
   "cell_type": "code",
   "execution_count": 3,
   "id": "72e2331f",
   "metadata": {},
   "outputs": [
    {
     "name": "stdout",
     "output_type": "stream",
     "text": [
      "T'es nul!\n"
     ]
    }
   ],
   "source": [
    "a=2\n",
    "b=3\n",
    "\n",
    "if a<b:\n",
    "    print(\"T'es nul!\")"
   ]
  },
  {
   "cell_type": "code",
   "execution_count": 4,
   "id": "cc05656f",
   "metadata": {},
   "outputs": [
    {
     "name": "stdout",
     "output_type": "stream",
     "text": [
      "20\n"
     ]
    }
   ],
   "source": [
    "x=0\n",
    "if b==a:\n",
    "    x=1\n",
    "else:\n",
    "    x=20\n",
    "    \n",
    "print(x)"
   ]
  },
  {
   "cell_type": "code",
   "execution_count": 5,
   "id": "640310ca",
   "metadata": {},
   "outputs": [
    {
     "name": "stdout",
     "output_type": "stream",
     "text": [
      "grande chaîne\n"
     ]
    }
   ],
   "source": [
    "def f(s):\n",
    "    if len(s)==0:\n",
    "        return \"Vide\"\n",
    "    elif len(s)<10:\n",
    "        return \"Petite chaîne\"\n",
    "    else:\n",
    "        return \"grande chaîne\"\n",
    "    \n",
    "print(f(\"Oh la belle maison\"))"
   ]
  },
  {
   "cell_type": "markdown",
   "id": "f03416f1",
   "metadata": {},
   "source": [
    "### For"
   ]
  },
  {
   "cell_type": "code",
   "execution_count": 13,
   "id": "d7544f46",
   "metadata": {},
   "outputs": [
    {
     "name": "stdout",
     "output_type": "stream",
     "text": [
      "souris\n",
      "rat\n",
      "putois\n"
     ]
    }
   ],
   "source": [
    "for mot in [\"souris\",\"rat\",\"putois\"]:\n",
    "    print(mot)"
   ]
  },
  {
   "cell_type": "code",
   "execution_count": 14,
   "id": "91d4a0ce",
   "metadata": {},
   "outputs": [
    {
     "name": "stdout",
     "output_type": "stream",
     "text": [
      "0\n",
      "1\n",
      "2\n"
     ]
    }
   ],
   "source": [
    "for i in range(3):\n",
    "    print(i)"
   ]
  },
  {
   "cell_type": "code",
   "execution_count": 10,
   "id": "e30513bb",
   "metadata": {},
   "outputs": [
    {
     "data": {
      "text/plain": [
       "[0, 3, 6]"
      ]
     },
     "execution_count": 10,
     "metadata": {},
     "output_type": "execute_result"
    }
   ],
   "source": [
    "[i*3 for i in range(3)]"
   ]
  },
  {
   "cell_type": "code",
   "execution_count": 11,
   "id": "d286905b",
   "metadata": {},
   "outputs": [
    {
     "name": "stdout",
     "output_type": "stream",
     "text": [
      "3\n",
      "4\n",
      "5\n",
      "6\n"
     ]
    }
   ],
   "source": [
    "for i in range(4):\n",
    "    temp = i\n",
    "    for j in [1,2]:\n",
    "        temp = temp+j\n",
    "    print(temp)"
   ]
  },
  {
   "cell_type": "code",
   "execution_count": 12,
   "id": "4fa1320f",
   "metadata": {},
   "outputs": [
    {
     "name": "stdout",
     "output_type": "stream",
     "text": [
      "(1, 8)\n",
      "(4, 6)\n"
     ]
    }
   ],
   "source": [
    "tab = [3,8,2,4,6]\n",
    "for i,valeur in enumerate(tab):\n",
    "    if valeur>4:\n",
    "        print((i,valeur))"
   ]
  },
  {
   "cell_type": "markdown",
   "id": "4be1c357",
   "metadata": {},
   "source": [
    "Les mots __continue__ et __break__ permettent de passer à l'étape suivante, et de terminer la boucle, respectivement"
   ]
  },
  {
   "cell_type": "code",
   "execution_count": 15,
   "id": "d18163d6",
   "metadata": {},
   "outputs": [
    {
     "name": "stdout",
     "output_type": "stream",
     "text": [
      "i= 12, res=12\n",
      "i=  1, res=13\n",
      "i=  9, res=22\n",
      "i= 24, res=46\n"
     ]
    }
   ],
   "source": [
    "tab = [12,1,9,56,24,579,65,6]\n",
    "\n",
    "res = 0\n",
    "for i in tab:\n",
    "    if i>100:\n",
    "        break\n",
    "    elif i>50:\n",
    "        continue\n",
    "    res = res+i\n",
    "    print(\"i=%3d, res=%d\"%(i,res))"
   ]
  },
  {
   "cell_type": "markdown",
   "id": "b52425fa",
   "metadata": {},
   "source": [
    "### While\n",
    "!!! si la condition n'est jamais réalisé, cette boucle ne s'arrête pas et créé un \"bug\""
   ]
  },
  {
   "cell_type": "code",
   "execution_count": 18,
   "id": "3c133a9f",
   "metadata": {},
   "outputs": [
    {
     "name": "stdout",
     "output_type": "stream",
     "text": [
      "1\n",
      "2\n",
      "3\n",
      "4\n"
     ]
    }
   ],
   "source": [
    "compteur = 1\n",
    "\n",
    "while compteur<5:\n",
    "    print(compteur)\n",
    "    compteur += 1"
   ]
  },
  {
   "cell_type": "markdown",
   "id": "10202f3c",
   "metadata": {},
   "source": [
    "### Traitement des erreurs"
   ]
  },
  {
   "cell_type": "code",
   "execution_count": 20,
   "id": "c0bf5979",
   "metadata": {},
   "outputs": [
    {
     "name": "stdout",
     "output_type": "stream",
     "text": [
      "division by zero\n",
      "11\n"
     ]
    }
   ],
   "source": [
    "x=10\n",
    "\n",
    "try:\n",
    "    x=x/0\n",
    "except Exception as err:\n",
    "    print(err)\n",
    "x=11\n",
    "\n",
    "print(x)"
   ]
  },
  {
   "cell_type": "markdown",
   "id": "5420b811",
   "metadata": {},
   "source": [
    "# Exercices"
   ]
  },
  {
   "cell_type": "code",
   "execution_count": null,
   "id": "dc42a9be",
   "metadata": {},
   "outputs": [],
   "source": [
    "# crée une liste qui ne contient que les trois premières lettre de chaque mot (éventuellement en majuscule)\n",
    "\n",
    "tab = \"Quelle drôle de planète ! pensa-t-il alors. Elle est toute sèche, et toute pointue et toute salée.\".split(\" \")\n",
    "res = []\n",
    "\n",
    "for \n",
    "\n",
    "\n",
    "print(res)"
   ]
  },
  {
   "cell_type": "code",
   "execution_count": null,
   "id": "dc0efcc3",
   "metadata": {},
   "outputs": [],
   "source": [
    "# Garde seulement les éléments qui sont compris entre 3 et 7\n",
    "\n",
    "import numpy as np\n",
    "\n",
    "tab = np.random.rand(20)*10\n",
    "res = []\n",
    "\n",
    "\n",
    "print(res)"
   ]
  },
  {
   "cell_type": "code",
   "execution_count": null,
   "id": "ecdc2616",
   "metadata": {},
   "outputs": [],
   "source": [
    "# range les mots dans un \"dictionnaire\" en fonction de leur première lettre \n",
    "# ex: {'a':[\"abbé\",\"armoire\"], 'b':[\"boule\",\"bad\"]}\n",
    "\n",
    "tab = \"Quelle drôle de planète ! pensa-t-il alors. Elle est toute sèche, et toute pointue et toute salée.\".split(\" \")\n",
    "res = {}\n",
    "\n",
    "\n",
    "print(res)"
   ]
  },
  {
   "cell_type": "code",
   "execution_count": null,
   "id": "c35fe6bf",
   "metadata": {},
   "outputs": [],
   "source": [
    "# Garde uniquement les valeurs numériques (avec float(s))\n",
    "tab=(\"4\",\"ryr\",\"12.3\",\"ruru\",\"False\")\n",
    "res = []\n",
    "\n",
    "print(res)"
   ]
  }
 ],
 "metadata": {
  "kernelspec": {
   "display_name": "Python 3 (ipykernel)",
   "language": "python",
   "name": "python3"
  },
  "language_info": {
   "codemirror_mode": {
    "name": "ipython",
    "version": 3
   },
   "file_extension": ".py",
   "mimetype": "text/x-python",
   "name": "python",
   "nbconvert_exporter": "python",
   "pygments_lexer": "ipython3",
   "version": "3.11.4"
  }
 },
 "nbformat": 4,
 "nbformat_minor": 5
}
