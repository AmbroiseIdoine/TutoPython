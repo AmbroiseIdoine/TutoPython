{
 "cells": [
  {
   "cell_type": "markdown",
   "id": "4d78ea62",
   "metadata": {},
   "source": [
    "# Exercices avec numpy (entre autre)\n",
    "\n",
    "Maintenant qu'on a toutes les bases, on peut continuer avec des exercices un peu plus tordus :-)\n",
    "\n",
    "voir [ici](P2_numpy.ipynb) pour les exemples"
   ]
  },
  {
   "cell_type": "code",
   "execution_count": null,
   "id": "05acf7ec",
   "metadata": {},
   "outputs": [],
   "source": [
    "# Importation des librairies\n",
    "import numpy as np\n",
    "import matplotlib.pyplot as plt"
   ]
  },
  {
   "cell_type": "markdown",
   "id": "961daec2",
   "metadata": {},
   "source": [
    "### 1. Fonctions numpy"
   ]
  },
  {
   "cell_type": "code",
   "execution_count": null,
   "id": "97851031",
   "metadata": {},
   "outputs": [],
   "source": [
    "# Faire un plot de la fonction f(x) = 2*x+1\n",
    "\n",
    "X = np.linspace(0,10,100)\n",
    "Y = \n"
   ]
  },
  {
   "cell_type": "code",
   "execution_count": null,
   "id": "d9b88f06",
   "metadata": {},
   "outputs": [],
   "source": [
    "# Faire un plot de la fonction sinus (rouge) et cosinus (vert) \n",
    "# entre -10 et 10\n",
    "YS = \n",
    "YC = \n"
   ]
  },
  {
   "cell_type": "code",
   "execution_count": null,
   "id": "74a77f74",
   "metadata": {},
   "outputs": [],
   "source": [
    "# Que se passe-t-il si on plot le sinus en fonction du cosinus?\n",
    "plt.figure(figsize=(3,3))\n",
    "plt.plot(YC,YS)"
   ]
  },
  {
   "cell_type": "markdown",
   "id": "8f5e9701",
   "metadata": {},
   "source": [
    "### 2. Fonctions aléatoires"
   ]
  },
  {
   "cell_type": "code",
   "execution_count": null,
   "id": "302524ec",
   "metadata": {},
   "outputs": [],
   "source": [
    "# faire un histogramme de 1000 variables aléatoires\n",
    "\n",
    "tab = \n",
    "plt.figure(figsize=(3,3))\n",
    "plt.hist(tab,bins=20)"
   ]
  },
  {
   "cell_type": "code",
   "execution_count": null,
   "id": "0c89dec7",
   "metadata": {},
   "outputs": [],
   "source": [
    "# Faire un histogramme avec cette fois ci:\n",
    "# 1000 fois la somme de 10 variables aléatoires\n",
    "\n"
   ]
  },
  {
   "cell_type": "code",
   "execution_count": null,
   "id": "4ac34e88",
   "metadata": {},
   "outputs": [],
   "source": [
    "# Faire un histogramme avec cette fois ci:\n",
    "# 1000 fois la somme de 100 variables aléatoires (que remarque t'on?)\n",
    "\n"
   ]
  },
  {
   "cell_type": "code",
   "execution_count": null,
   "id": "2fa5944c",
   "metadata": {},
   "outputs": [],
   "source": [
    "# Faire une fonction qui trace la trajectoire d'un homme ivre: \n",
    "# à chaque fois il avance ou recule d'un pas de façon aléatoire\n",
    "\n",
    "def random_walk(pas=100):\n",
    "    pass"
   ]
  },
  {
   "cell_type": "code",
   "execution_count": null,
   "id": "aafea24d",
   "metadata": {},
   "outputs": [],
   "source": [
    "# afficher 100 marches aléatoires\n",
    "\n"
   ]
  },
  {
   "cell_type": "code",
   "execution_count": null,
   "id": "e30ddcf1",
   "metadata": {},
   "outputs": [],
   "source": [
    "# En passant: on peut aussi coder cette fonction de façon récursive:\n",
    "\n",
    "def random_walk2(pas=100):\n",
    "    if pas<=0:\n",
    "        return [0]\n",
    "    else:\n",
    "        res = random_walk2(pas-1)\n",
    "        prochain = res[-1]+np.random.choice([-1,1])\n",
    "        return np.append(res,prochain)\n",
    "\n",
    "random_walk2(4)"
   ]
  },
  {
   "cell_type": "code",
   "execution_count": null,
   "id": "445050ef",
   "metadata": {},
   "outputs": [],
   "source": [
    "# peut-on dessiner une marche aléatoire en deux dimensions?\n",
    "\n"
   ]
  },
  {
   "cell_type": "markdown",
   "id": "5825ab83",
   "metadata": {},
   "source": [
    "### Encore plus de fonctions!\n",
    "#### (Optionnel)"
   ]
  },
  {
   "cell_type": "code",
   "execution_count": null,
   "id": "fa17f4f4",
   "metadata": {},
   "outputs": [],
   "source": [
    "# faire une fonction qui interpole des valeurs:\n",
    "\n",
    "#ex: interpole(0.4,[0,1,2],[3,1,0]) = 2.2\n",
    "\n",
    "def interpole(x,xtab,ytab):\n",
    "    pass"
   ]
  }
 ],
 "metadata": {
  "kernelspec": {
   "display_name": "Python 3 (ipykernel)",
   "language": "python",
   "name": "python3"
  },
  "language_info": {
   "codemirror_mode": {
    "name": "ipython",
    "version": 3
   },
   "file_extension": ".py",
   "mimetype": "text/x-python",
   "name": "python",
   "nbconvert_exporter": "python",
   "pygments_lexer": "ipython3",
   "version": "3.11.4"
  }
 },
 "nbformat": 4,
 "nbformat_minor": 5
}
