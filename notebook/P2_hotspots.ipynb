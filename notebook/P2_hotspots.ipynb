{
 "cells": [
  {
   "cell_type": "markdown",
   "id": "e0038936",
   "metadata": {},
   "source": [
    "# Recherche de hotspots\n",
    "\n",
    "De nombreuses alertes sont lancées sur environnéo. Ou intervenir en premier?"
   ]
  },
  {
   "cell_type": "code",
   "execution_count": null,
   "id": "cfe22571",
   "metadata": {},
   "outputs": [],
   "source": [
    "# Importation et creation de données\n",
    "\n",
    "import numpy as np\n",
    "from scipy.stats import norm\n",
    "import matplotlib.pyplot as plt\n",
    "\n",
    "class Points():\n",
    "    def __init__(self,nb=None,scale=0.05):\n",
    "        if nb is None:\n",
    "            self.nb = np.random.choice(range(5,15)) \n",
    "        else:\n",
    "            self.nb = nb\n",
    "        self.scale=scale\n",
    "        self.points = np.random.rand(self.nb,3)\n",
    "        self.generate_data()\n",
    "        \n",
    "    def generate_data(self):\n",
    "        data = []\n",
    "        for pt in self.points:\n",
    "            nb = int(pt[2]*100)\n",
    "            x = pt[0]+norm.rvs(size=nb)*self.scale\n",
    "            y = pt[1]+norm.rvs(size=nb)*self.scale\n",
    "            imp = np.random.choice(range(2,10),nb,replace=True)\n",
    "            data.extend(list(zip(x,y,imp)))\n",
    "        n2 = int(len(data)/4)\n",
    "        x = np.random.rand(n2)*(1+self.scale*2)-self.scale\n",
    "        y = np.random.rand(n2)*(1+self.scale*2)-self.scale\n",
    "        imp = np.random.choice(range(2,5),nb,replace=True)\n",
    "        data.extend(list(zip(x,y,imp)))\n",
    "        self.data = np.array(data)\n",
    "        \n",
    "    def plot(self,original=False):\n",
    "        plt.figure(figsize=(3,3))\n",
    "        x = self.data[:,0]\n",
    "        y = self.data[:,1]\n",
    "        z = self.data[:,2]\n",
    "        plt.scatter(x,y,s=np.sqrt(z),marker=\"o\",alpha=0.5)\n",
    "        if original:\n",
    "            plt.scatter(self.points[:,0],self.points[:,1],s=30*np.sqrt(self.points[:,2]),color=\"darkred\")\n",
    "        \n",
    "generator = Points()\n",
    "data = generator.data\n",
    "generator.plot()\n",
    "generator.plot(original=True)\n",
    "\n",
    "# data = [ [x0,y0,importance0],\n",
    "#          [x1,y1,importance1],\n",
    "#          ...\n",
    "#        ]"
   ]
  },
  {
   "cell_type": "markdown",
   "id": "24d61987",
   "metadata": {},
   "source": [
    "### Première approche:\n",
    "\n",
    "Avec une grille"
   ]
  },
  {
   "cell_type": "code",
   "execution_count": null,
   "id": "1b015742",
   "metadata": {},
   "outputs": [],
   "source": [
    "# faire une fonction qui trouve les coordonnées min et max (xmin,ymin,xmax,ymax)\n",
    "\n",
    "def minmax(data)\n",
    "    "
   ]
  },
  {
   "cell_type": "code",
   "execution_count": null,
   "id": "e12f1b90",
   "metadata": {},
   "outputs": [],
   "source": [
    "# faire une fonction qui range chaque point dans une grille de n carrés sur n\n",
    "# le résultat est une liste de n listes de listes de points\n",
    "\n",
    "def case(n=10,data=data):\n",
    "    (xmin,ymin,xmax,ymax) = minmax(data)\n",
    "    res = []"
   ]
  },
  {
   "cell_type": "code",
   "execution_count": null,
   "id": "702ccf3b",
   "metadata": {},
   "outputs": [],
   "source": [
    "# pour chaque case calculer le score de la case: \n",
    "# retenir les 5 cases avec le score le plus haut\n"
   ]
  },
  {
   "cell_type": "code",
   "execution_count": null,
   "id": "c734cd37",
   "metadata": {},
   "outputs": [],
   "source": [
    "# sur un graphe, afficher le centre des cases au dessus de 'generator.plot(original=True)' en vert.\n"
   ]
  },
  {
   "cell_type": "markdown",
   "id": "441bdc58",
   "metadata": {},
   "source": [
    "### Deuxième approche:\n",
    "\n",
    "#### (Pour ceux qui s'ennuient vraiment beaucoup)\n",
    "\n",
    "- Créer une fonction qui à une coordonnée (x,y) attribue un score d'importance en fonction des points voisins $\n",
    "(ex: sum( exp(-distance)*importance ) )\n",
    "\n",
    "- Prendre 100 points au hasard et pour chacun de ces 100 points, essayer de minimiser la fonction précédente en le déplacant avec un pas de 0.01 à chaque itération.\n",
    "\n",
    "- fusionner les points proches\n"
   ]
  }
 ],
 "metadata": {
  "kernelspec": {
   "display_name": "Python 3 (ipykernel)",
   "language": "python",
   "name": "python3"
  },
  "language_info": {
   "codemirror_mode": {
    "name": "ipython",
    "version": 3
   },
   "file_extension": ".py",
   "mimetype": "text/x-python",
   "name": "python",
   "nbconvert_exporter": "python",
   "pygments_lexer": "ipython3",
   "version": "3.11.4"
  }
 },
 "nbformat": 4,
 "nbformat_minor": 5
}
