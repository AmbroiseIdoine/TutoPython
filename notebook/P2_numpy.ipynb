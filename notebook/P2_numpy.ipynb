{
 "cells": [
  {
   "cell_type": "markdown",
   "id": "c83698f2",
   "metadata": {},
   "source": [
    "# Numpy et Matplotlib: les libraries scientifiques\n",
    "\n",
    "[exos](P2_numpy_exos.ipynb)"
   ]
  },
  {
   "cell_type": "code",
   "execution_count": null,
   "id": "e2500d89",
   "metadata": {},
   "outputs": [],
   "source": [
    "# Importation des librairies\n",
    "import numpy as np\n",
    "import matplotlib.pyplot as plt"
   ]
  },
  {
   "cell_type": "markdown",
   "id": "9ecb9efd",
   "metadata": {},
   "source": [
    "Avec les tableaux numpy, on traite les tableaux comme des nombres: "
   ]
  },
  {
   "cell_type": "code",
   "execution_count": null,
   "id": "81321e8d",
   "metadata": {},
   "outputs": [],
   "source": [
    "tab = np.array([23,56,8,9])\n",
    "tab*2+4"
   ]
  },
  {
   "cell_type": "markdown",
   "id": "de4dd8a7",
   "metadata": {},
   "source": [
    "Les fonctions scientifiques de numpy s'appliquent facilement aux listes:"
   ]
  },
  {
   "cell_type": "code",
   "execution_count": null,
   "id": "f9c4db45",
   "metadata": {},
   "outputs": [],
   "source": [
    "a = np.cos(range(5))\n",
    "b = np.sum(tab)\n",
    "c = np.abs([-3,4,-9]) + 4\n",
    "\n",
    "for tableau in [a,b,c]:\n",
    "    print(tableau)"
   ]
  },
  {
   "cell_type": "markdown",
   "id": "d608c6bc",
   "metadata": {},
   "source": [
    "Fonctions numpy courantes:"
   ]
  },
  {
   "cell_type": "code",
   "execution_count": null,
   "id": "110b9573",
   "metadata": {},
   "outputs": [],
   "source": [
    "# créer des tableau numpy\n",
    "a = np.array([2,5,1])\n",
    "b = np.arange(4,10,0.5)\n",
    "c = np.linspace(-1,1,5)\n",
    "d = np.concatenate([a,c])\n",
    "\n",
    "for tableau in [a,b,c,d]:\n",
    "    print(list(tableau))"
   ]
  },
  {
   "cell_type": "code",
   "execution_count": null,
   "id": "4120f538",
   "metadata": {},
   "outputs": [],
   "source": [
    "# fonctions aléatoires\n",
    "a = np.random.rand(3)\n",
    "b = np.random.choice(5,10,replace=True) \n",
    "\n",
    "for tableau in [a,b]:\n",
    "    print(list(tableau))"
   ]
  },
  {
   "cell_type": "code",
   "execution_count": null,
   "id": "effdea33",
   "metadata": {},
   "outputs": [],
   "source": [
    "# autres fonctions:\n",
    "tab = np.random.rand(4)-0.5\n",
    "\n",
    "v1 = np.max(tab)\n",
    "v2 = np.sum(tab)\n",
    "v3 = np.mean(tab)\n",
    "\n",
    "v4 = np.log(tab+1)\n",
    "v5 = np.sin(tab)\n",
    "v6 = np.abs(tab)\n",
    "\n",
    "for i,val in enumerate([v1,v2,v3,v4,v5,v6]):\n",
    "    print(\"v%d: %r\"%(i+1,val))"
   ]
  },
  {
   "cell_type": "markdown",
   "id": "aee2a598",
   "metadata": {},
   "source": [
    "__Pyplot__ permet d'afficher des graphes: plot, scatter, hist, ... de les personnaliser et de les enregistrer sous format .png"
   ]
  },
  {
   "cell_type": "code",
   "execution_count": null,
   "id": "8bab0030",
   "metadata": {},
   "outputs": [],
   "source": [
    "fig0 = plt.figure()\n",
    "plt.plot(tab)"
   ]
  },
  {
   "cell_type": "code",
   "execution_count": null,
   "id": "532566f1",
   "metadata": {},
   "outputs": [],
   "source": [
    "fig1 = plt.figure()\n",
    "plt.plot(tab+10,label=\"Bleu\")\n",
    "plt.plot(tab,linestyle='--',c='red',label=\"Rouge\")\n",
    "plt.xlim((-1,7))\n",
    "plt.legend()\n",
    "plt.ylabel(\"Sauterelles\")"
   ]
  },
  {
   "cell_type": "code",
   "execution_count": null,
   "id": "ed60958f",
   "metadata": {},
   "outputs": [],
   "source": [
    "fig2 = plt.figure(figsize=(6,4))\n",
    "plt.title(\"mon scatter plot\")\n",
    "plt.scatter(range(3),c,marker='o')"
   ]
  },
  {
   "cell_type": "markdown",
   "id": "91733d1c",
   "metadata": {},
   "source": [
    "[vers les exos](P2_numpy_exos.ipynb)"
   ]
  }
 ],
 "metadata": {
  "kernelspec": {
   "display_name": "Python 3 (ipykernel)",
   "language": "python",
   "name": "python3"
  },
  "language_info": {
   "codemirror_mode": {
    "name": "ipython",
    "version": 3
   },
   "file_extension": ".py",
   "mimetype": "text/x-python",
   "name": "python",
   "nbconvert_exporter": "python",
   "pygments_lexer": "ipython3",
   "version": "3.11.4"
  }
 },
 "nbformat": 4,
 "nbformat_minor": 5
}
