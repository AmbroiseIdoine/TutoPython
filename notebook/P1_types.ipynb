{
 "cells": [
  {
   "cell_type": "markdown",
   "id": "c97de101",
   "metadata": {},
   "source": [
    "# Types python"
   ]
  },
  {
   "cell_type": "code",
   "execution_count": null,
   "id": "fae4c3ba",
   "metadata": {},
   "outputs": [],
   "source": [
    "# Ceci est un commentaire: il n'est jamais pris en compte par Python et commence par '#'"
   ]
  },
  {
   "cell_type": "markdown",
   "id": "528feb7a",
   "metadata": {},
   "source": [
    "## les nombres\n",
    "[Exos](P1_numbers.ipynb)"
   ]
  },
  {
   "cell_type": "code",
   "execution_count": 2,
   "id": "88140e86",
   "metadata": {},
   "outputs": [
    {
     "name": "stdout",
     "output_type": "stream",
     "text": [
      "47.65\n"
     ]
    }
   ],
   "source": [
    "# les nombres\n",
    "\n",
    "va = 45\n",
    "vb = 2.65\n",
    "vc = va+vb\n",
    "\n",
    "print(vc)"
   ]
  },
  {
   "cell_type": "markdown",
   "id": "a6890453",
   "metadata": {},
   "source": [
    "## Les chaines de caractère\n",
    "[Exos](P1_strings.ipynb)"
   ]
  },
  {
   "cell_type": "code",
   "execution_count": null,
   "id": "ae4607b9",
   "metadata": {},
   "outputs": [
    {
     "name": "stdout",
     "output_type": "stream",
     "text": [
      "ze vaut 6,9 (€€€)\n"
     ]
    }
   ],
   "source": [
    "# les chaines de caractères\n",
    "\n",
    "vd = \"Une Maison\"\n",
    "ve = \"ze vaut 6,9 (€€€)\"\n",
    "\n",
    "print(ve)"
   ]
  },
  {
   "cell_type": "markdown",
   "id": "75dd1545",
   "metadata": {},
   "source": [
    "## Les booleéns\n",
    "[Exos](P1_bool.ipynb)"
   ]
  },
  {
   "cell_type": "code",
   "execution_count": null,
   "id": "4627f3fc",
   "metadata": {},
   "outputs": [
    {
     "name": "stdout",
     "output_type": "stream",
     "text": [
      "False\n"
     ]
    }
   ],
   "source": [
    "# les booleens (vrai ou faux)\n",
    "\n",
    "vf = False\n",
    "vg = (vd==ve)\n",
    "\n",
    "print(vg)"
   ]
  },
  {
   "cell_type": "markdown",
   "id": "f9c0e333",
   "metadata": {},
   "source": [
    "## Les listes et autres\n",
    "[Exos](P1_lists.ipynb)"
   ]
  },
  {
   "cell_type": "code",
   "execution_count": null,
   "id": "88cc3081",
   "metadata": {},
   "outputs": [
    {
     "name": "stdout",
     "output_type": "stream",
     "text": [
      "{'bruit': 100, 'nom': 'voiture', 'agréable': False}\n",
      "{'et', 'ui', 'er'}\n"
     ]
    },
    {
     "data": {
      "text/plain": [
       "['etienne', 2]"
      ]
     },
     "execution_count": 7,
     "metadata": {},
     "output_type": "execute_result"
    }
   ],
   "source": [
    "# les listes, dictionnaires et set\n",
    "\n",
    "vh = [12,14,15]                                     # liste\n",
    "vi = [False,\"est\",1,\"booleen\"]\n",
    "vj = (\"mais\",\"ou\",\"et\",\"donc\",\"or\",\"ni\",\"car\")      # tuple (on ne peut pas les modifier)\n",
    "vk = set((\"er\",\"et\",\"er\",\"ui\"))                     # set   (chaque élément est unique)\n",
    "vl = {\"chat\":[\"etienne\",2],\"chien\":5}                           # dictionnaire (les éléments sont nommés)\n",
    "vm = {\"bruit\":100,\n",
    "      \"nom\":\"voiture\",\n",
    "      \"agréable\":False}\n",
    "\n",
    "print(vm)\n",
    "print(vk)\n",
    "vl[\"chat\"]"
   ]
  },
  {
   "cell_type": "markdown",
   "id": "76b6c3e3",
   "metadata": {},
   "source": [
    "## Les fonctions\n",
    "[Exos](P1_functions.ipynb)"
   ]
  },
  {
   "cell_type": "code",
   "execution_count": null,
   "id": "a3713131",
   "metadata": {},
   "outputs": [
    {
     "name": "stdout",
     "output_type": "stream",
     "text": [
      "15\n",
      "c'est fort.\n",
      "tre\n"
     ]
    },
    {
     "data": {
      "text/plain": [
       "\"c'est fort. tre bof\""
      ]
     },
     "execution_count": 23,
     "metadata": {},
     "output_type": "execute_result"
    }
   ],
   "source": [
    "# les fonctions (permettent d'effectuer des opérations)\n",
    "\n",
    "def vn(x,y):\n",
    "    a = x+x\n",
    "    return a+y\n",
    "\n",
    "def vo(name, commentaire=\"Eh oui!\", autre=\" rte\"):\n",
    "    print(name)\n",
    "    print(commentaire)\n",
    "    return name+\" \"+commentaire+\" \"+autre\n",
    "\n",
    "print(vn(4,7))\n",
    "vo(\"c'est fort.\",autre=\"bof\",commentaire=\"tre\")"
   ]
  },
  {
   "cell_type": "markdown",
   "id": "67f31f26",
   "metadata": {},
   "source": [
    "## Les classes\n",
    "\n",
    "[Exos](P1_classes.ipynb)"
   ]
  },
  {
   "cell_type": "code",
   "execution_count": null,
   "id": "8723d927",
   "metadata": {},
   "outputs": [
    {
     "name": "stdout",
     "output_type": "stream",
     "text": [
      "<__main__.Joueur object at 0x0000024DE117F110>\n",
      "Mbappé\n",
      "100\n",
      "Autre\n"
     ]
    }
   ],
   "source": [
    "# les classes\n",
    "\n",
    "\n",
    "class Joueur:\n",
    "    PATTES = 2\n",
    "    \n",
    "    def __init__(self, nom, force=10):\n",
    "        self.nom = nom\n",
    "        self.force = force\n",
    "\n",
    "        \n",
    "        \n",
    "j1 = Joueur(\"Mbappé\",100)\n",
    "print(j1)\n",
    "print(j1.nom)\n",
    "print(j1.force)\n",
    "\n",
    "j2 = Joueur(\"Autre\")\n",
    "print(j2.nom)"
   ]
  },
  {
   "cell_type": "code",
   "execution_count": null,
   "id": "e1bafe5d",
   "metadata": {},
   "outputs": [
    {
     "data": {
      "text/plain": [
       "\"Je m'appelle Mc Gregor, mesure 187 cm et j'aime le champagne.\""
      ]
     },
     "execution_count": 30,
     "metadata": {},
     "output_type": "execute_result"
    }
   ],
   "source": [
    "\n",
    "class vp:\n",
    "    MA_CONSTANTE = \"champagne\"\n",
    "    \n",
    "    def __init__(self,nom,taille=187):\n",
    "        self.nom = nom\n",
    "        self.taille = taille\n",
    "        self.tour = 4\n",
    "        \n",
    "    def description(self):\n",
    "        res = \"Je m'appelle %s, mesure %d cm et j'aime le %s.\"%(self.nom, self.taille, self.MA_CONSTANTE)\n",
    "        #print(res)\n",
    "        return res\n",
    "        \n",
    "vp_instance = vp(\"Mc Gregor\")\n",
    "vp_instance.description()"
   ]
  },
  {
   "cell_type": "markdown",
   "id": "b175882d",
   "metadata": {},
   "source": [
    "Pour finir: \n",
    "\n",
    "- D'autres types existent:\n",
    "ex: `a = None` qui signifie \"rien\"\n",
    "\n",
    "- D'autres sont définis par des librairies extérieures: il s'agit en fait de classes. (comme tous les autres types d'ailleurs)\n",
    "\n",
    "- Pour en savoir plus sur une fonction ou un objet, taper son nom, suivi de '?'"
   ]
  },
  {
   "cell_type": "code",
   "execution_count": null,
   "id": "e674c552",
   "metadata": {},
   "outputs": [],
   "source": [
    "a = None\n",
    "\n",
    "sum?"
   ]
  }
 ],
 "metadata": {
  "kernelspec": {
   "display_name": "Python 3 (ipykernel)",
   "language": "python",
   "name": "python3"
  },
  "language_info": {
   "codemirror_mode": {
    "name": "ipython",
    "version": 3
   },
   "file_extension": ".py",
   "mimetype": "text/x-python",
   "name": "python",
   "nbconvert_exporter": "python",
   "pygments_lexer": "ipython3",
   "version": "3.11.5"
  }
 },
 "nbformat": 4,
 "nbformat_minor": 5
}
