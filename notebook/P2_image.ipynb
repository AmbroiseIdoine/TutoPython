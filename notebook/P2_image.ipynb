{
 "cells": [
  {
   "cell_type": "markdown",
   "id": "7bbca8a0",
   "metadata": {},
   "source": [
    "# Compression d'image"
   ]
  },
  {
   "cell_type": "code",
   "execution_count": 4,
   "id": "e2bfecc0",
   "metadata": {},
   "outputs": [],
   "source": [
    "# Importe PIL et défini l'image\n",
    "\n",
    "from PIL import Image\n",
    "\n",
    "image_path=r\"C:\\Users\\ambro\\Documents\\Associations\\SAMU environnement\\Tuto Python\\data\\Yosemite.jpg\""
   ]
  },
  {
   "cell_type": "code",
   "execution_count": 5,
   "id": "a8e74df7",
   "metadata": {},
   "outputs": [],
   "source": [
    "# Regarde l'image:\n",
    "\n",
    "img = Image.open(image_path)\n",
    "img.show()"
   ]
  },
  {
   "cell_type": "code",
   "execution_count": null,
   "id": "dbc67ba2",
   "metadata": {},
   "outputs": [],
   "source": [
    "# Ecris une fonction qui donne le nom de l'image à partir de \"path\" (use 'split')\n",
    "\n",
    "def get_name(path):\n",
    "    pass"
   ]
  },
  {
   "cell_type": "code",
   "execution_count": null,
   "id": "1bd86bb8",
   "metadata": {},
   "outputs": [],
   "source": [
    "# Ecris une fonction 'show' qui affiche l'image et imprime le nom\n",
    "\n",
    "def show(path):\n",
    "    pass\n",
    "    \n",
    "show(image_path)"
   ]
  },
  {
   "cell_type": "code",
   "execution_count": null,
   "id": "9f39bba2",
   "metadata": {},
   "outputs": [],
   "source": [
    "# Fonction qui change \"path/to/picture.png\" en \"path/to/picture_<suffix>.png\"\n",
    "\n",
    "def renomme(path,suffix=\"2\"):\n",
    "    pass\n",
    "\n",
    "renomme(image_path)"
   ]
  },
  {
   "cell_type": "code",
   "execution_count": null,
   "id": "59cd3afa",
   "metadata": {},
   "outputs": [],
   "source": [
    "# Ecris une fonction qui réduit la taille de l'image en nombre de pixel, \n",
    "# puis l'enregistre sous un autre nom (avec 'resize' et 'save')\n",
    "\n",
    "def reduit(path):\n",
    "    pass\n",
    "\n",
    "reduit(image_path)"
   ]
  },
  {
   "cell_type": "code",
   "execution_count": 8,
   "id": "658c0ec4",
   "metadata": {},
   "outputs": [],
   "source": [
    "# avec l'option 'quality' de la fonction save, réduit l'image jusqu'à ce qu'elle pèse moins de 100kbit.\n",
    "# puis enregistre la sous un autre nom\n",
    "\n",
    "def compresse(path):\n",
    "    pass\n",
    "\n",
    "compresse(image_path)"
   ]
  },
  {
   "cell_type": "code",
   "execution_count": null,
   "id": "16b3f2dc",
   "metadata": {},
   "outputs": [],
   "source": [
    "# teste avec d'autres images"
   ]
  },
  {
   "cell_type": "markdown",
   "id": "2a75c0b1",
   "metadata": {},
   "source": [
    "-  \n",
    "-  \n",
    "-  \n",
    "-  \n",
    "-  \n",
    "- \n",
    "-  \n",
    "-  \n",
    "-  \n",
    "-  \n",
    "-  \n",
    "-  \n",
    "-  \n",
    "-  \n",
    "-  \n",
    "-  \n",
    "-  \n",
    "-  \n",
    "-  \n",
    "-  \n",
    "-  \n",
    "-  \n",
    "-  \n",
    "-  \n",
    "-  \n",
    "-  \n",
    "-  \n",
    "-  \n",
    "-  \n",
    "-  \n",
    "-  \n",
    "-  \n",
    "-  \n",
    "-  \n",
    "-  \n",
    "-  \n",
    "-  \n",
    "-  \n",
    "-  \n",
    "-  \n",
    "-  \n",
    "-  \n",
    "-  "
   ]
  },
  {
   "cell_type": "code",
   "execution_count": null,
   "id": "0c3a5b25",
   "metadata": {},
   "outputs": [],
   "source": [
    "def compress_image(image_path,replace=True,target_size=500,min_quality=25,step=5,max_height=1000,max_width=1000):\n",
    "    \"\"\"Compress image\n",
    "\n",
    "    Parameters\n",
    "    ----------\n",
    "    image_path : <str>\n",
    "        Path to image\n",
    "    replace : bool, optional\n",
    "        wether to replace the image inplace or change the name to <image>_compressed.<ext>\n",
    "    target_size : int, optional\n",
    "        target size in kb, by default 500\n",
    "    min_quality : int, optional\n",
    "        minimum quality for pillow. It will stop before reaching desired size if this low quality is reached, by default 25\n",
    "    max_height : int, optional\n",
    "        maximal height in pixel, by default 1000\n",
    "    max_width : int, optional\n",
    "        max width in pixel, by default 1000\n",
    "\n",
    "    Returns\n",
    "    -------\n",
    "    <str>\n",
    "        the save path\n",
    "    \"\"\"\n",
    "    foo = Image.open(image_path)\n",
    "    factor = min(float(max_width)/foo.size[0],float(max_height)/foo.size[1])\n",
    "    if factor<1:\n",
    "        # downsize the image with an ANTIALIAS filter (gives the highest quality)\n",
    "        foo = foo.resize((int(factor*foo.size[0]),int(factor*foo.size[1])),Image.ANTIALIAS)\n",
    "    save_path=image_path\n",
    "    if not replace:\n",
    "        save_path = \"%s_compressed.%s\"%(\".\".join(image_path.split(\".\")[:-1]),image_path.split(\".\")[-1])\n",
    "    for quality in range(100,min_quality,-step):\n",
    "        foo.save(save_path, optimize=True, quality=quality)\n",
    "        #print((quality,os.stat(save_path).st_size))\n",
    "        if os.stat(save_path).st_size<target_size*1024:\n",
    "            break\n",
    "    return save_path\n"
   ]
  }
 ],
 "metadata": {
  "kernelspec": {
   "display_name": "Python 3 (ipykernel)",
   "language": "python",
   "name": "python3"
  },
  "language_info": {
   "codemirror_mode": {
    "name": "ipython",
    "version": 3
   },
   "file_extension": ".py",
   "mimetype": "text/x-python",
   "name": "python",
   "nbconvert_exporter": "python",
   "pygments_lexer": "ipython3",
   "version": "3.11.4"
  }
 },
 "nbformat": 4,
 "nbformat_minor": 5
}
