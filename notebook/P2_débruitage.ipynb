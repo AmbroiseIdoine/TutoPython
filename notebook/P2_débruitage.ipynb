{
 "cells": [
  {
   "cell_type": "markdown",
   "id": "d77ee19b",
   "metadata": {},
   "source": [
    "# Débruitage\n",
    "## Traitement des données et graphes\n",
    "\n",
    "Le but est de débruiter des données et de les afficher"
   ]
  },
  {
   "cell_type": "code",
   "execution_count": null,
   "id": "ef72a965",
   "metadata": {},
   "outputs": [],
   "source": [
    "# création de données et importation\n",
    "\n",
    "import numpy as np\n",
    "from matplotlib import pyplot as plt\n",
    "import pandas as pd\n",
    "\n",
    "def create_data(n=100):\n",
    "    x=np.linspace(0,10,n)\n",
    "    y = np.cos(np.random.rand()*3.14+x)\n",
    "    y += x*np.random.rand()-x**2/12+np.random.rand()\n",
    "    return x,y\n",
    "\n",
    "def bruit_data(y):\n",
    "    return y+np.random.rand(len(y))*2-1\n",
    "\n",
    "X,Y0= create_data()\n",
    "Y = bruit_data(Y0)"
   ]
  },
  {
   "cell_type": "code",
   "execution_count": null,
   "id": "bea1a108",
   "metadata": {},
   "outputs": [],
   "source": [
    "# Visualisation des données brutes\n",
    "\n",
    "fig = plt.figure()\n",
    "plt.plot(X,Y0,linestyle=\"--\",c=\"darkblue\")\n",
    "plt.scatter(X,Y)"
   ]
  },
  {
   "cell_type": "markdown",
   "id": "e6e534ae",
   "metadata": {},
   "source": [
    "1. Fait une fonction qui créé des données 3 fois et affiche le graphe pour vérifier qu'elles sont bien générées aléatoirement\n",
    "2. Change la couleur et le style de plot pour mieux s'y retrouver"
   ]
  },
  {
   "cell_type": "code",
   "execution_count": null,
   "id": "2d132a56",
   "metadata": {},
   "outputs": [],
   "source": []
  },
  {
   "cell_type": "markdown",
   "id": "a4652dab",
   "metadata": {},
   "source": [
    "1. Fonction: pour chaque point, retourne la moyenne des 2 précédents, 2 suivants et lui même.\n",
    "2. Affiche cette courbe"
   ]
  },
  {
   "cell_type": "code",
   "execution_count": null,
   "id": "e76c32af",
   "metadata": {},
   "outputs": [],
   "source": []
  },
  {
   "cell_type": "markdown",
   "id": "e4f84fc9",
   "metadata": {},
   "source": [
    "(Optional)  Use np.convolve pour appliquer un filtre plus long et améliorer le résultat."
   ]
  },
  {
   "cell_type": "code",
   "execution_count": null,
   "id": "3f9b943a",
   "metadata": {},
   "outputs": [],
   "source": []
  },
  {
   "cell_type": "markdown",
   "id": "58ee9105",
   "metadata": {},
   "source": [
    "1. Change les limites entre 2 et 8\n",
    "2. Enregistre cette image"
   ]
  },
  {
   "cell_type": "code",
   "execution_count": null,
   "id": "c4f961a5",
   "metadata": {},
   "outputs": [],
   "source": []
  }
 ],
 "metadata": {
  "kernelspec": {
   "display_name": "Python 3 (ipykernel)",
   "language": "python",
   "name": "python3"
  },
  "language_info": {
   "codemirror_mode": {
    "name": "ipython",
    "version": 3
   },
   "file_extension": ".py",
   "mimetype": "text/x-python",
   "name": "python",
   "nbconvert_exporter": "python",
   "pygments_lexer": "ipython3",
   "version": "3.11.4"
  }
 },
 "nbformat": 4,
 "nbformat_minor": 5
}
