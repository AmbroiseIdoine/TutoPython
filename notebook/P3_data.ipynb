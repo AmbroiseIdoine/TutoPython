{
 "cells": [
  {
   "cell_type": "markdown",
   "id": "187193e8",
   "metadata": {},
   "source": [
    "# Données mondiales d'émission de CO2\n",
    "### Importer les données d'émission globales et les traiter"
   ]
  },
  {
   "cell_type": "code",
   "execution_count": null,
   "id": "bfb8f030",
   "metadata": {},
   "outputs": [],
   "source": [
    "import pandas as pd\n",
    "import numpy as np\n",
    "from matplotlib import pyplot as plt\n",
    "import os\n",
    "\n",
    "folder=r\"C:\\Users\\ambro\\Documents\\Associations\\SAMU environnement\\Tuto Python\\data\"\n",
    "path2population = os.path.join(folder,\"population.csv\")\n",
    "path2emissions = os.path.join(folder,\"emissions.csv\")\n",
    "\n",
    "print(path2population)"
   ]
  },
  {
   "cell_type": "code",
   "execution_count": null,
   "id": "828962df",
   "metadata": {},
   "outputs": [],
   "source": [
    "# import data\n",
    "\n",
    "pop = pd.read_csv(path2population,index_col=0,header=1)\n",
    "#emissions = \n"
   ]
  },
  {
   "cell_type": "code",
   "execution_count": null,
   "id": "9b22915e",
   "metadata": {},
   "outputs": [],
   "source": [
    "# discover the data\n",
    "pop.head()"
   ]
  },
  {
   "cell_type": "code",
   "execution_count": null,
   "id": "b8158715",
   "metadata": {},
   "outputs": [],
   "source": [
    "# discover the data\n",
    "pop[\"FRA\"]"
   ]
  },
  {
   "cell_type": "code",
   "execution_count": null,
   "id": "8389e6c1",
   "metadata": {
    "scrolled": true
   },
   "outputs": [],
   "source": [
    "# discover the data\n",
    "pop.iloc[-5:,:2]"
   ]
  },
  {
   "cell_type": "markdown",
   "id": "3c8f0baa",
   "metadata": {},
   "source": [
    "1. Trouve les 5 plus gros émetteurs en 2020\n",
    "2. Fait un graphe de leurs émissions depuis 1960 (plot.dat)"
   ]
  },
  {
   "cell_type": "markdown",
   "id": "9a82bc4d",
   "metadata": {},
   "source": [
    "### A quelle point les émissions passées prédisent-elles les émissions actuelles? \n",
    "\n",
    "1. Fais un scatter plot des emissions de 2020 en fonction de celle de 1960\n",
    "2. Calcule l'augmentation moyenne des emissions 'a'\n",
    "3. Trace la ligne y = a*x"
   ]
  },
  {
   "cell_type": "markdown",
   "id": "caa8a67d",
   "metadata": {},
   "source": [
    "1. Peut-on essayer de prévoir les émissions de 2030 par pays en suivant la tendance de 2000 à 2020?"
   ]
  },
  {
   "cell_type": "markdown",
   "id": "96d1eedb",
   "metadata": {},
   "source": [
    "1. Pour chaque pays, calcule les émissions par habitant et fais en une troisième table de donnée, \"dat\"\n",
    "2. Qui sont les 10 plus gros pollueurs cette fois-ci?\n",
    "3. Comment ont évolué les émissions par habitant de la France?\n",
    "4. Enregistre la nouvelle table de données au format CSV"
   ]
  }
 ],
 "metadata": {
  "kernelspec": {
   "display_name": "Python 3 (ipykernel)",
   "language": "python",
   "name": "python3"
  },
  "language_info": {
   "codemirror_mode": {
    "name": "ipython",
    "version": 3
   },
   "file_extension": ".py",
   "mimetype": "text/x-python",
   "name": "python",
   "nbconvert_exporter": "python",
   "pygments_lexer": "ipython3",
   "version": "3.11.4"
  }
 },
 "nbformat": 4,
 "nbformat_minor": 5
}
