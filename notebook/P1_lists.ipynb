{
 "cells": [
  {
   "cell_type": "code",
   "execution_count": null,
   "id": "3f9066ef",
   "metadata": {},
   "outputs": [],
   "source": [
    "import numpy as np"
   ]
  },
  {
   "cell_type": "code",
   "execution_count": 6,
   "id": "ccf42280",
   "metadata": {},
   "outputs": [
    {
     "name": "stdout",
     "output_type": "stream",
     "text": [
      "len:    9\n",
      "sum:    115\n",
      "partie: [9, 68, 8, 3]\n",
      "append: [4, 8, 9, 68, 8, 3, 8, 3, 4, 45]\n",
      "extend: [4, 8, 9, 68, 8, 3, 8, 3, 4, 45, 67, 6]\n",
      "pop:    [4, 8, 9, 68, 8, 3, 8, 3]\n",
      "pop(2): [4, 8, 68, 8, 3, 8, 3, 4]\n",
      "\n",
      "set:    {3, 4, 68, 8, 9}\n",
      "union:  {1, 2, 3, 4, 68, 8, 9}\n",
      "\n",
      "tuple:  (4, 8, 9, 68, 8, 3, 8, 3, 4)\n",
      "\n",
      "keys:   dict_keys(['AR', 'FR', 'MA'])\n",
      "items:  dict_items([('AR', 2), ('FR', 56), ('MA', 7)])\n"
     ]
    }
   ],
   "source": [
    "# Fonctions utiles\n",
    "tab = [4,8,9,68,8,3,8,3,4]\n",
    "\n",
    "print(\"len:    %d\"%( len(tab) ,))\n",
    "print(\"sum:    %d\"%( sum(tab) ,))\n",
    "print(\"partie: %r\"%( tab[2:6] ,))\n",
    "\n",
    "# modification sur place\n",
    "tab2=tab.copy()\n",
    "tab2.append(45)\n",
    "print(\"append: %r\"%( tab2     ,))\n",
    "tab2=tab.copy()\n",
    "tab2.extend([45,67,6])\n",
    "print(\"extend: %r\"%( tab2     ,))\n",
    "tab2=tab.copy()\n",
    "tab2.pop()\n",
    "print(\"pop:    %r\"%( tab2     ,))\n",
    "tab2=tab.copy()\n",
    "tab2.pop(2)\n",
    "print(\"pop(2): %r\"%( tab2     ,))\n",
    "\n",
    "# autres formats\n",
    "print(\"\\nset:    %r\"%( set(tab)   ,))\n",
    "print(\"union:  %r\"%( set(tab).union([1,2,3,4])))\n",
    "\n",
    "print(\"\\ntuple:  %r\"%( tuple(tab) ,))\n",
    "\n",
    "dico = {\"AR\":2,\"FR\":56,\"MA\":7}\n",
    "\n",
    "print(\"\\nkeys:   %r\"%( dico.keys()  ,))\n",
    "print(\"items:  %r\"%( dico.items() ,))\n",
    "\n"
   ]
  },
  {
   "cell_type": "code",
   "execution_count": null,
   "id": "220ef6d8",
   "metadata": {},
   "outputs": [],
   "source": [
    "# Exo 1 ajoute 2 élements à la liste a:\n",
    "\n",
    "a = [12,13,15,14]\n",
    "\n",
    "res=\n",
    "print(res)"
   ]
  },
  {
   "cell_type": "code",
   "execution_count": null,
   "id": "6c526599",
   "metadata": {},
   "outputs": [],
   "source": [
    "# Exo 2 renvoie le troisième élément de la liste\n",
    "\n",
    "a = [12,13,15,14]\n",
    "\n",
    "res=\n",
    "print(res)"
   ]
  },
  {
   "cell_type": "code",
   "execution_count": null,
   "id": "0d7f6cc0",
   "metadata": {},
   "outputs": [],
   "source": [
    "# exo 3: combine ces deux liste\n",
    "\n",
    "l1 = [12,653,63]\n",
    "l2 = [45,99,\"tout\"]\n",
    "\n",
    "res = \n",
    "print(res)"
   ]
  },
  {
   "cell_type": "code",
   "execution_count": null,
   "id": "7a1d683c",
   "metadata": {},
   "outputs": [],
   "source": [
    "# exo 4: Construit une liste de listes de nombres\n",
    "\n",
    "res = \n",
    "print(res)"
   ]
  },
  {
   "cell_type": "code",
   "execution_count": null,
   "id": "6317b26f",
   "metadata": {},
   "outputs": [],
   "source": [
    "# exo 5: quel est le dernier nombre de cette liste?\n",
    "a = np.random.rand(10)\n",
    "\n",
    "res = \n",
    "print(res)"
   ]
  },
  {
   "cell_type": "code",
   "execution_count": null,
   "id": "f10d2cfd",
   "metadata": {},
   "outputs": [],
   "source": [
    "# exo 6: construit le set contenant les valeurs proposées qui se recoupent\n",
    "\n",
    "amis = [\"tom\",\"marie\",\"paul\"]\n",
    "brun = [\"paul\",\"paul\",\"rose\",\"marie\"]\n",
    "\n",
    "res = \n",
    "print(res)"
   ]
  },
  {
   "cell_type": "code",
   "execution_count": null,
   "id": "08a2c60b",
   "metadata": {},
   "outputs": [],
   "source": [
    "# exo 7: construit un dictionnaire avec les vitesses max de ces trains\n",
    "\n",
    "tgv=320\n",
    "ter=140\n",
    "Intercite=200\n",
    "ice=280\n",
    "\n",
    "res = \n",
    "print(res)"
   ]
  },
  {
   "cell_type": "code",
   "execution_count": null,
   "id": "ae5c0ee2",
   "metadata": {
    "scrolled": false
   },
   "outputs": [],
   "source": [
    "# exo 8: renvoie la liste des valeurs uniques de cette liste \n",
    "tab = np.random.choice(50,20,replace=True)\n",
    "\n",
    "res = \n",
    "print(res)"
   ]
  }
 ],
 "metadata": {
  "kernelspec": {
   "display_name": "Python 3 (ipykernel)",
   "language": "python",
   "name": "python3"
  },
  "language_info": {
   "codemirror_mode": {
    "name": "ipython",
    "version": 3
   },
   "file_extension": ".py",
   "mimetype": "text/x-python",
   "name": "python",
   "nbconvert_exporter": "python",
   "pygments_lexer": "ipython3",
   "version": "3.11.4"
  }
 },
 "nbformat": 4,
 "nbformat_minor": 5
}
