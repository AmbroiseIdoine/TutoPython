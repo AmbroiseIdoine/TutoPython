{
 "cells": [
  {
   "cell_type": "code",
   "execution_count": 3,
   "id": "306990d2",
   "metadata": {},
   "outputs": [
    {
     "data": {
      "text/plain": [
       "'ewrt 789 tue'"
      ]
     },
     "execution_count": 3,
     "metadata": {},
     "output_type": "execute_result"
    }
   ],
   "source": [
    "\"ewrt %d tue\"%(789)"
   ]
  }
 ],
 "metadata": {
  "kernelspec": {
   "display_name": "Python 3 (ipykernel)",
   "language": "python",
   "name": "python3"
  },
  "language_info": {
   "codemirror_mode": {
    "name": "ipython",
    "version": 3
   },
   "file_extension": ".py",
   "mimetype": "text/x-python",
   "name": "python",
   "nbconvert_exporter": "python",
   "pygments_lexer": "ipython3",
   "version": "3.11.4"
  }
 },
 "nbformat": 4,
 "nbformat_minor": 5
}
