{
 "cells": [
  {
   "cell_type": "markdown",
   "id": "4054d000",
   "metadata": {},
   "source": [
    "# Importation et ajustement à des données\n",
    "\n",
    "Le but est de trouver des tendances dans nos données"
   ]
  },
  {
   "cell_type": "code",
   "execution_count": null,
   "id": "947cb998",
   "metadata": {},
   "outputs": [],
   "source": [
    "# importation des données\n",
    "import pandas as pd\n",
    "from matplotlib  import pyplot as plt\n",
    "# from scipy import\n",
    "\n",
    "data = pd.read_csv(r\"C:\\Users\\ambro\\Documents\\Associations\\SAMU environnement\\Tuto Python\\data\\observations.csv\")\n",
    "X = data[\"X\"]\n",
    "y = data[\"Y\"]"
   ]
  },
  {
   "cell_type": "code",
   "execution_count": null,
   "id": "c4537692",
   "metadata": {},
   "outputs": [],
   "source": [
    "# résumé des données\n",
    "data.describe()"
   ]
  },
  {
   "cell_type": "markdown",
   "id": "3ca66deb",
   "metadata": {},
   "source": [
    "### 1. Modifier un peu les données et enregistrer"
   ]
  },
  {
   "cell_type": "code",
   "execution_count": null,
   "id": "0d366f68",
   "metadata": {},
   "outputs": [],
   "source": [
    "# ajouter une colonne Z = X + Y et T = X - Y \n",
    "\n",
    "dat['Z'] = dat['X'] + dat[\"Y\"]\n"
   ]
  },
  {
   "cell_type": "code",
   "execution_count": null,
   "id": "dcf9d379",
   "metadata": {},
   "outputs": [],
   "source": [
    "# ajouter une colonne \"weird\" = min(X,Y)*exp(T)\n",
    "\n"
   ]
  },
  {
   "cell_type": "code",
   "execution_count": null,
   "id": "6ede622b",
   "metadata": {},
   "outputs": [],
   "source": [
    "# enregistrer les données au format csv sous un nouveau nom:\n",
    "# ouvrir la feuille de donnée sous excel...\n",
    "\n",
    "#dat.to_csv(..."
   ]
  },
  {
   "cell_type": "markdown",
   "id": "32b0c602",
   "metadata": {},
   "source": [
    "### 2. Trouver une courbe de tendance\n",
    "\n",
    "#### afficher un graphe de y en fonction de x pour voir si on peut en tirer quelque chose\n",
    "\n",
    "voir par ici pour des exemple de graphe: [debruitage](P2_débruitage.ipynb)"
   ]
  },
  {
   "cell_type": "code",
   "execution_count": null,
   "id": "f9e9fb3b",
   "metadata": {},
   "outputs": [],
   "source": []
  },
  {
   "cell_type": "code",
   "execution_count": null,
   "id": "f83576c6",
   "metadata": {},
   "outputs": [],
   "source": [
    "# faire une fonction qui calcule a*X (X est une liste numpy/pandas)\n",
    "\n",
    "def f1(X,a):\n",
    "    return a*X"
   ]
  },
  {
   "cell_type": "code",
   "execution_count": null,
   "id": "9b277b65",
   "metadata": {},
   "outputs": [],
   "source": [
    "# faire une fonction qui retourne la distance au carré entre le résultat de la fonction précédente appliquée à X et Y\n",
    "\n",
    "def erreur1(a,X=X,Y=Y):\n",
    "    pass"
   ]
  },
  {
   "cell_type": "code",
   "execution_count": null,
   "id": "6de6ec40",
   "metadata": {},
   "outputs": [],
   "source": [
    "# faire une fonction qui tente de réduire l'erreur: \n",
    "# à chaque étape on regarde les parametre (a+0.1) et (a-0.1)\n",
    "# si l'un d'eux réduit l'erreur par rapport à 'a', on remplace 'a' par celui-ci.\n",
    "# on s'arrete après 100 itérations ou si on n'arrive pas à améliorer 'a'\n",
    "\n",
    "def minimise_erreur1(a=0):\n",
    "    return a"
   ]
  },
  {
   "cell_type": "code",
   "execution_count": null,
   "id": "4f88afce",
   "metadata": {},
   "outputs": [],
   "source": [
    "# faire un graphe des données par rapport à la fonction f1 avec le paramètre choisi\n",
    "\n",
    "def plot1():\n",
    "    pass"
   ]
  },
  {
   "cell_type": "markdown",
   "id": "2ca3e7e8",
   "metadata": {},
   "source": [
    "### 3. Optionnel"
   ]
  },
  {
   "cell_type": "code",
   "execution_count": null,
   "id": "5e5f17ef",
   "metadata": {},
   "outputs": [],
   "source": [
    "# faire une fonction qui calcule a*X+b (X est une liste numpy/pandas)\n",
    "\n",
    "def f2(X,a,b):\n",
    "    return a*X+b"
   ]
  },
  {
   "cell_type": "code",
   "execution_count": null,
   "id": "5d4949cc",
   "metadata": {},
   "outputs": [],
   "source": [
    "# faire une fonction qui retourne la distance au carré entre le résultat de la fonction précédente appliquée à X et Y\n",
    "\n",
    "def erreur2(par=(0,1),X=X,Y=Y):\n",
    "    a = par[0]\n",
    "    b = par[1]\n",
    "    pass"
   ]
  },
  {
   "cell_type": "code",
   "execution_count": null,
   "id": "235fbff8",
   "metadata": {},
   "outputs": [],
   "source": [
    "# faire une fonction qui tente de réduire l'erreur: \n",
    "# à chaque étape on regarde les parametre (a+0.1,b), (a-0.1,b), (a,b+0.1), et (a,b-0.1)\n",
    "# si l'un deux réduit l'erreur par rapport à (a,b), on remplace (a,b) par celui qui réduit le plus.\n",
    "# on s'arrete après 100 itérations ou si on n'arrive pas à améliorer (a,b)\n",
    "\n",
    "def mininmise_erreur2(a=0,b=0):\n",
    "    pass\n",
    "    return a,b"
   ]
  },
  {
   "cell_type": "code",
   "execution_count": null,
   "id": "6acfb3e3",
   "metadata": {},
   "outputs": [],
   "source": [
    "# faire un graphe des données par rapport à la fonction f2 avec le paramètre choisi: a-t-on réussi à l'améliorer?\n",
    "\n",
    "def plot2():\n",
    "    pass"
   ]
  },
  {
   "cell_type": "markdown",
   "id": "0c20a51b",
   "metadata": {},
   "source": [
    "#### Pour aller plus loin:\n",
    " - On pourrait aussi utiliser la fonction minimize de scipy pour le même résultat\n",
    " - En utilisant des fonctions avec plus de paramètres (polynômes, fonction continues par morceaux, splines, ...), on peut se rapprocher davantage des données"
   ]
  },
  {
   "cell_type": "markdown",
   "id": "5a8b1c16",
   "metadata": {},
   "source": [
    "### 4. Suite (indépendante)\n",
    "\n",
    "#### Etude de la distribution de Y"
   ]
  },
  {
   "cell_type": "code",
   "execution_count": null,
   "id": "bc888aa1",
   "metadata": {},
   "outputs": [],
   "source": [
    "# faire un histogramme de Y (plt.hist())\n",
    "\n"
   ]
  },
  {
   "cell_type": "code",
   "execution_count": null,
   "id": "e0bdae72",
   "metadata": {},
   "outputs": [],
   "source": [
    "# ajuster une distribution normale avec scipy.stats.norm.fit:\n",
    "# voir https://docs.scipy.org/doc/scipy/reference/generated/scipy.stats.norm.html\n",
    "\n"
   ]
  },
  {
   "cell_type": "code",
   "execution_count": null,
   "id": "c8052f60",
   "metadata": {},
   "outputs": [],
   "source": [
    "# faire un plot de la distribution normale, comparé à l'histogramme de Y\n",
    "\n"
   ]
  }
 ],
 "metadata": {
  "kernelspec": {
   "display_name": "Python 3 (ipykernel)",
   "language": "python",
   "name": "python3"
  },
  "language_info": {
   "codemirror_mode": {
    "name": "ipython",
    "version": 3
   },
   "file_extension": ".py",
   "mimetype": "text/x-python",
   "name": "python",
   "nbconvert_exporter": "python",
   "pygments_lexer": "ipython3",
   "version": "3.11.4"
  }
 },
 "nbformat": 4,
 "nbformat_minor": 5
}
