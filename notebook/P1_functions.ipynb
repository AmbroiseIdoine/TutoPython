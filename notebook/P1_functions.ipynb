{
 "cells": [
  {
   "cell_type": "markdown",
   "id": "ba3b7bb1",
   "metadata": {},
   "source": [
    "### Functions\n",
    "\n",
    "ne pas hésiter à passer par les boucles for et les conditions avant [ici](P1_boucles.ipynb)"
   ]
  },
  {
   "cell_type": "code",
   "execution_count": null,
   "id": "6a2cad88",
   "metadata": {},
   "outputs": [],
   "source": [
    "import numpy as np"
   ]
  },
  {
   "cell_type": "code",
   "execution_count": null,
   "id": "665ddd9d",
   "metadata": {},
   "outputs": [],
   "source": [
    "# exo 1: une fonction qui multiplie x et y\n",
    "\n",
    "def f(x,y)\n",
    "    return \n",
    "\n",
    "f(5,7)"
   ]
  },
  {
   "cell_type": "code",
   "execution_count": null,
   "id": "a191dbad",
   "metadata": {},
   "outputs": [],
   "source": [
    "# exo 2: renvoie oui si la liste tab comporte moins de 5 éléments (et non sinon)\n",
    "\n",
    "def f(tab):\n",
    "    return \n",
    "\n",
    "f(range(np.random.choice(10)))"
   ]
  },
  {
   "cell_type": "code",
   "execution_count": null,
   "id": "f5a0ce5e",
   "metadata": {},
   "outputs": [],
   "source": [
    "# exo 3: Si a est plus petit que 5, renvoie 4*a sinon 20+2*a\n",
    "\n",
    "def f(a):\n",
    "    \n",
    "[f(4),f(5),f(6)]"
   ]
  },
  {
   "cell_type": "code",
   "execution_count": null,
   "id": "93c3af06",
   "metadata": {},
   "outputs": [],
   "source": [
    "# exo 4: multiplie chaque élément de tab par x\n",
    "\n",
    "def f(tab,x=2):\n",
    "\n",
    "f(range(4),5)"
   ]
  },
  {
   "cell_type": "code",
   "execution_count": null,
   "id": "9d049452",
   "metadata": {},
   "outputs": [],
   "source": [
    "# exo 5: trouve la position du maximum de tab\n",
    "\n",
    "def f(tab):\n",
    "    \n",
    "    \n",
    "tab=np.random.rand(10)\n",
    "(tab,f(tab))"
   ]
  },
  {
   "cell_type": "code",
   "execution_count": null,
   "id": "29ac1640",
   "metadata": {},
   "outputs": [],
   "source": [
    "# exemple pour l'exo 6\n",
    "\n",
    "l=[4,3,1,4,5,6]\n",
    "l.pop(2)\n",
    "l"
   ]
  },
  {
   "cell_type": "code",
   "execution_count": null,
   "id": "18f2f147",
   "metadata": {},
   "outputs": [],
   "source": [
    "# exo 6: trouve le minimum de la liste, et sort le de la liste pour le renvoyer \n",
    "\n",
    "\n",
    "res = \n",
    "print(res)"
   ]
  },
  {
   "cell_type": "code",
   "execution_count": null,
   "id": "82cc52a2",
   "metadata": {},
   "outputs": [],
   "source": [
    "# exo 7: trie la liste en récupérant à chaque fois le minimum \n",
    "\n",
    "def my_sort(tab):\n",
    "    tab = [i for i in tab]    # copie la liste pour ne pas la modifier\n",
    "    res = []\n",
    "    \n",
    "\n",
    "print()"
   ]
  }
 ],
 "metadata": {
  "kernelspec": {
   "display_name": "Python 3 (ipykernel)",
   "language": "python",
   "name": "python3"
  },
  "language_info": {
   "codemirror_mode": {
    "name": "ipython",
    "version": 3
   },
   "file_extension": ".py",
   "mimetype": "text/x-python",
   "name": "python",
   "nbconvert_exporter": "python",
   "pygments_lexer": "ipython3",
   "version": "3.11.4"
  }
 },
 "nbformat": 4,
 "nbformat_minor": 5
}
