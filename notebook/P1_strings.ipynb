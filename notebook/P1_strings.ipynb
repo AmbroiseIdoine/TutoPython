{
 "cells": [
  {
   "cell_type": "markdown",
   "id": "0afe8a46",
   "metadata": {},
   "source": [
    "# Les chaines de caractères"
   ]
  },
  {
   "cell_type": "code",
   "execution_count": null,
   "id": "6f918f4c",
   "metadata": {},
   "outputs": [],
   "source": [
    "# Fonctions utiles\n",
    "\n",
    "s = \" Le petit prince les regarda. Elles ressemblaient toutes à sa fleur.  \"\n",
    "\n",
    "print(\"lower:   %s\"%(s.lower()))\n",
    "print(\"replace: %s\"%(s.replace(\" \",\"-\")))\n",
    "print(\"split:   %s\"%(s.split(' ')))\n",
    "print(\"strip:   %s\"%(s.strip()))\n",
    "print(\"find:    %s\"%(s.find('ti')))\n",
    "\n",
    "print(\"partie:  %s\"%(s[10:30]))"
   ]
  },
  {
   "cell_type": "code",
   "execution_count": null,
   "id": "2ed078ee",
   "metadata": {},
   "outputs": [],
   "source": [
    "# exo 1: prend plusieurs string et construit une phrase\n",
    "\n",
    "s1 = \"oups \"\n",
    "s2 = \"hop\"\n",
    "s3 = \"la\"\n",
    "\n",
    "res = \"\"\n",
    "print(res)"
   ]
  },
  {
   "cell_type": "code",
   "execution_count": null,
   "id": "154e73e7",
   "metadata": {},
   "outputs": [],
   "source": [
    "# exo 2: remplace 'hommes' par 'coraux'\n",
    "\n",
    "s = \"Tout les hommes sont gentils.\"\n",
    "\n",
    "res = \"\"\n",
    "print(res)"
   ]
  },
  {
   "cell_type": "code",
   "execution_count": null,
   "id": "a649db0f",
   "metadata": {},
   "outputs": [],
   "source": [
    "# exo 3: vérifie si s1 est plus longue que s2\n",
    "\n",
    "s1 = \"Tout les hommes sont gentils.\"\n",
    "s2 =\"n'est que du blabla\"\n",
    "\n",
    "res = \n",
    "print(res)"
   ]
  },
  {
   "cell_type": "code",
   "execution_count": null,
   "id": "46b8cc8b",
   "metadata": {},
   "outputs": [],
   "source": [
    "# exo 4: concatene les chaines de caractères\n",
    "\n",
    "a = \"bouh \"\n",
    "b = 45\n",
    "c = False\n",
    "d = \"ne veut rien dire\"\n",
    "\n",
    "res = \n",
    "print(res)"
   ]
  },
  {
   "cell_type": "code",
   "execution_count": null,
   "id": "bb6052f0",
   "metadata": {},
   "outputs": [],
   "source": [
    "# exo 5: renvoie la partie entre la 2e et la 5e lettre\n",
    "s = \"ezprozeporipz\"\n",
    "\n",
    "res = \n",
    "print(res)"
   ]
  },
  {
   "cell_type": "code",
   "execution_count": null,
   "id": "f7bc8582",
   "metadata": {},
   "outputs": [],
   "source": [
    "# exo 6: sépare la chaine par le caractère ',' (use split)\n",
    "s=\"te,ezrz,zyz\"\n",
    "\n",
    "res = \n",
    "print(res)"
   ]
  },
  {
   "cell_type": "code",
   "execution_count": null,
   "id": "4d41ae46",
   "metadata": {},
   "outputs": [],
   "source": [
    "# exo 7: renvoie \"maison\" (extrait de s)\n",
    "s=\"La Maison Est Belle\"\n",
    "\n",
    "res = \n",
    "print(res)"
   ]
  },
  {
   "cell_type": "code",
   "execution_count": null,
   "id": "db7f9c9a",
   "metadata": {},
   "outputs": [],
   "source": [
    "# exo 8: renvoie le nom du fichier\n",
    "s=r\"C:\\Users\\ambro\\Documents\\Associations\\SAMU environnement\\Tuto Python\\notebook\\poule.png\"\n",
    "\n",
    "res = \n",
    "print(res)"
   ]
  }
 ],
 "metadata": {
  "kernelspec": {
   "display_name": "Python 3 (ipykernel)",
   "language": "python",
   "name": "python3"
  },
  "language_info": {
   "codemirror_mode": {
    "name": "ipython",
    "version": 3
   },
   "file_extension": ".py",
   "mimetype": "text/x-python",
   "name": "python",
   "nbconvert_exporter": "python",
   "pygments_lexer": "ipython3",
   "version": "3.11.4"
  }
 },
 "nbformat": 4,
 "nbformat_minor": 5
}
