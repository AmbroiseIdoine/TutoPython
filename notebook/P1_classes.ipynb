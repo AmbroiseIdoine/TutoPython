{
 "cells": [
  {
   "cell_type": "markdown",
   "id": "b6a1c244",
   "metadata": {},
   "source": [
    "### exo1.1\n",
    "definis un classe quotient, qui prend deux entiers a et b et représente leur quotient\n",
    "### exo1.2\n",
    "Ecris une méthode \\_\\_str\\_\\_(self): qui décrit la fraction\n",
    "### exo1.3\n",
    "La méthode _compare(self,other)_ vérifie si la fraction est plus grande qu'une autre"
   ]
  },
  {
   "cell_type": "code",
   "execution_count": null,
   "id": "d9462c8a",
   "metadata": {},
   "outputs": [],
   "source": [
    "class Quotient\n",
    "    pass\n",
    "\n",
    "x = Quotient(21,63)\n",
    "y = Quotient(25,69)\n",
    "x.compare(y)"
   ]
  },
  {
   "cell_type": "markdown",
   "id": "e7f48940",
   "metadata": {},
   "source": [
    "\n",
    "### exo 2.1: \n",
    "définis une classe \"auto\" dont tous les représentants ont 4 ROUES et possèdent chacun une vitesse, une acceleration, une vitesse max et un nom\n",
    "\n",
    "#### la vitesse est en m/s (c'est plus simple)\n",
    "\n",
    "### exo 2.2:\n",
    "rajoute une méthode qui renvoie une description de l'auto\n",
    "### exo 2.3:\n",
    "rajoute une méthode qui calcule la vitesse de l'auto après x secondes d'acceleration en tenant compte de la vitesse max et de la vitesse initiale v0\n",
    "### exo 2.4: \n",
    "rajoute une méthode qui compare la vitesse de l'auto avec une autre auto après x secondes en partant de 0\n",
    "### exo 2.5:\n",
    "rajoute une méthode qui détermine la distance parcourue après x secondes d'accélération max en partant de 0\n",
    "### exo 2.6:\n",
    "une clio (vmax=25m/s,acc=3m/s²)part avec 1000m d'avance sur un porsche(vmax=80m/s,acc=8m/s²) sera-elle rattrapée après une minute (60s)?"
   ]
  },
  {
   "cell_type": "code",
   "execution_count": null,
   "id": "a9ee344e",
   "metadata": {},
   "outputs": [],
   "source": [
    "class Auto:\n",
    "    pass"
   ]
  }
 ],
 "metadata": {
  "kernelspec": {
   "display_name": "Python 3 (ipykernel)",
   "language": "python",
   "name": "python3"
  },
  "language_info": {
   "codemirror_mode": {
    "name": "ipython",
    "version": 3
   },
   "file_extension": ".py",
   "mimetype": "text/x-python",
   "name": "python",
   "nbconvert_exporter": "python",
   "pygments_lexer": "ipython3",
   "version": "3.11.4"
  }
 },
 "nbformat": 4,
 "nbformat_minor": 5
}
