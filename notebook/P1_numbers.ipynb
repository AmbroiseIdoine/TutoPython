{
 "cells": [
  {
   "cell_type": "code",
   "execution_count": 1,
   "id": "5fd5e35f",
   "metadata": {},
   "outputs": [
    {
     "name": "stdout",
     "output_type": "stream",
     "text": [
      "0\n"
     ]
    }
   ],
   "source": [
    "# Exo 1: ajoute ces nombres\n",
    "\n",
    "a=23\n",
    "b=45\n",
    "\n",
    "res=0\n",
    "print(res)"
   ]
  },
  {
   "cell_type": "code",
   "execution_count": 2,
   "id": "436c71a7",
   "metadata": {},
   "outputs": [
    {
     "name": "stdout",
     "output_type": "stream",
     "text": [
      "0\n"
     ]
    }
   ],
   "source": [
    "# Exo 2: est-ce que a*b est supérieur à c*d?\n",
    "\n",
    "a=23\n",
    "b=45\n",
    "c=20\n",
    "d=49\n",
    "\n",
    "res=0\n",
    "print(res)"
   ]
  },
  {
   "cell_type": "code",
   "execution_count": null,
   "id": "a857652b",
   "metadata": {},
   "outputs": [],
   "source": [
    "# Exo 3: combien fait n à la puissance 5?\n",
    "\n",
    "n=4.5\n",
    "\n",
    "res=0\n",
    "print(res)"
   ]
  }
 ],
 "metadata": {
  "kernelspec": {
   "display_name": "Python 3 (ipykernel)",
   "language": "python",
   "name": "python3"
  },
  "language_info": {
   "codemirror_mode": {
    "name": "ipython",
    "version": 3
   },
   "file_extension": ".py",
   "mimetype": "text/x-python",
   "name": "python",
   "nbconvert_exporter": "python",
   "pygments_lexer": "ipython3",
   "version": "3.11.4"
  }
 },
 "nbformat": 4,
 "nbformat_minor": 5
}
