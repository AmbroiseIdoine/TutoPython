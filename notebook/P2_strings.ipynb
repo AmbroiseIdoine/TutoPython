{
 "cells": [
  {
   "cell_type": "markdown",
   "id": "381f2380",
   "metadata": {},
   "source": [
    "# Chaînes de caractères et webscrapping"
   ]
  },
  {
   "cell_type": "markdown",
   "id": "202253a6",
   "metadata": {},
   "source": [
    "### Quelques fonctions"
   ]
  },
  {
   "cell_type": "code",
   "execution_count": null,
   "id": "c2712c5d",
   "metadata": {},
   "outputs": [],
   "source": [
    "# fonctions\n",
    "s = \" Le petit prince les regarda. Elles ressemblaient toutes à sa fleur.  \"\n",
    "\n",
    "print(\"lower:   %s\"%(s.lower()))\n",
    "print(\"replace: %s\"%(s.replace(\" \",\"-\")))\n",
    "print(\"split:   %s\"%(s.split(' ')))\n",
    "print(\"strip:   %s\"%(s.strip()))\n",
    "print(\"find:    %s\"%(s.find('ti')))\n",
    "print(\"join:    %s\"%(\". \".join([\"a\",\"ab\",\"abc\"])))\n",
    "\n",
    "\n",
    "print(\"partie:  %s\"%(s[10:30]))\n"
   ]
  },
  {
   "cell_type": "markdown",
   "id": "b87d7412",
   "metadata": {},
   "source": [
    "#### Compléter des chaines de caractères avec des données:"
   ]
  },
  {
   "cell_type": "code",
   "execution_count": 5,
   "id": "a6bcc37a",
   "metadata": {},
   "outputs": [
    {
     "name": "stdout",
     "output_type": "stream",
     "text": [
      "10 3.876400 tout [67, 78]\n",
      "10 3.8764 tout [67, 78]\n",
      "10 3.8764 tout [67, 78]\n"
     ]
    }
   ],
   "source": [
    "a=10\n",
    "b=3.8764\n",
    "c=\"tout\"\n",
    "d=[67,78]\n",
    "\n",
    "s1 = \"%d %f %s %r\"%(a,b,c,d)\n",
    "s2 = f\"{a} {b} {c} {d}\"\n",
    "s3 = \"{} {} {} {}\".format(a,b,c,d)\n",
    "\n",
    "print(s1)\n",
    "print(s2)\n",
    "print(s3)"
   ]
  },
  {
   "cell_type": "markdown",
   "id": "03f004bf",
   "metadata": {},
   "source": [
    "### Exos"
   ]
  },
  {
   "cell_type": "markdown",
   "id": "aab502ef",
   "metadata": {},
   "source": [
    "#### Quelques itérations"
   ]
  },
  {
   "cell_type": "code",
   "execution_count": null,
   "id": "3bebe8a8",
   "metadata": {},
   "outputs": [],
   "source": [
    "# Imprimer \"j'aime manger des <fruit> au dessert\" pour chaque fruit\n",
    "fruits = [\"kiwis\",\"bananes\",\"poires\"]\n",
    "\n"
   ]
  },
  {
   "cell_type": "code",
   "execution_count": null,
   "id": "b8f3edd2",
   "metadata": {},
   "outputs": [],
   "source": [
    "texte = \"\"\"– Bonjour, dit le renard.\n",
    "– Bonjour, répondit poliment le petit prince, qui se retourna mais ne vit rien.\n",
    "– Je suis là, dit la voix, sous le pommier.\n",
    "– Qui es-tu ? dit le petit prince. Tu es bien joli…\n",
    "– Je suis un renard, dit le renard.\n",
    "– Viens jouer avec moi, lui proposa le petit prince. Je suis tellement triste…\n",
    "– Je ne puis pas jouer avec toi, dit le renard. Je ne suis pas apprivoisé.\n",
    "– Ah ! pardon, fit le petit prince.\n",
    "Mais, après réflexion, il ajouta :\n",
    "– Qu’est-ce que signifie « apprivoiser » ?\n",
    "– Tu n’es pas d’ici, dit le renard, que cherches-tu ?\n",
    "– Je cherche les hommes, dit le petit prince. Qu’est-ce que signifie « apprivoiser » ?\n",
    "– Les hommes, dit le renard, ils ont des fusils et ils chassent. C’est bien gênant ! Ils élèvent aussi des poules. C’est leur seul intérêt. Tu cherches des poules ?\n",
    "– Non, dit le petit prince. Je cherche des amis. Qu’est-ce que signifie « apprivoiser » ?\n",
    "– C’est une chose trop oubliée, dit le renard. Ça signifie « créer des liens… »\n",
    "– Créer des liens ?\n",
    "– Bien sûr, dit le renard. Tu n’es encore pour moi qu’un petit garçon tout semblable à cent mille petits garçons. Et je n’ai pas besoin de toi. Et tu n’as pas besoin de moi non plus. Je ne suis pour toi qu’un renard semblable à cent mille renards. Mais, si tu m’apprivoises, nous aurons besoin l’un de l’autre. Tu seras pour moi unique au monde. Je serai pour toi unique au monde…\n",
    "– Je commence à comprendre, dit le petit prince. Il y a une fleur… je crois qu’elle m’a apprivoisé…\"\"\""
   ]
  },
  {
   "cell_type": "code",
   "execution_count": null,
   "id": "f90dc71c",
   "metadata": {},
   "outputs": [],
   "source": [
    "# remplacer tous les signes de ponctuation par \" \" dans le texte \n",
    "# (les retours à la ligne sont noté \"\\n\")\n",
    "\n",
    "def clean(texte):\n",
    "    "
   ]
  },
  {
   "cell_type": "code",
   "execution_count": null,
   "id": "1b00704d",
   "metadata": {},
   "outputs": [],
   "source": [
    "# compter le nombre de mots du texte\n",
    "\n",
    "def nb_mots(texte):\n",
    "    "
   ]
  },
  {
   "cell_type": "code",
   "execution_count": null,
   "id": "4b1ce661",
   "metadata": {},
   "outputs": [],
   "source": [
    "# compter le nombre de mots unique du texte\n",
    "\n"
   ]
  },
  {
   "cell_type": "code",
   "execution_count": null,
   "id": "a437401b",
   "metadata": {},
   "outputs": [],
   "source": [
    "# combien de fois trouve-t-on le mot prince?\n"
   ]
  },
  {
   "cell_type": "code",
   "execution_count": null,
   "id": "042b2352",
   "metadata": {},
   "outputs": [],
   "source": [
    "# (optionnel) quel est le mot qui apparait le plus fréquemment?\n"
   ]
  },
  {
   "cell_type": "code",
   "execution_count": null,
   "id": "1813b541",
   "metadata": {},
   "outputs": [],
   "source": [
    "# fonction qui remplace tous les 'le' ou 'la' par 'the' et \"un\" ou \"une\" par \"a\"\n"
   ]
  },
  {
   "cell_type": "code",
   "execution_count": null,
   "id": "356013d3",
   "metadata": {},
   "outputs": [],
   "source": [
    "# fonction qui imprime toute les lignes ou apparait le mot 'tu', encadré par \"##\", et donne sa position\n",
    "# ex: index=9 : \"Qui es- ## tu ##  ? dit le petit prince. ## Tu ## es bien joli…\""
   ]
  },
  {
   "cell_type": "markdown",
   "id": "7cf27d9d",
   "metadata": {},
   "source": [
    "#### Pour aller plus loin: voir les regex..."
   ]
  },
  {
   "cell_type": "markdown",
   "id": "07e62e49",
   "metadata": {},
   "source": [
    "## Lire une page web"
   ]
  },
  {
   "cell_type": "code",
   "execution_count": null,
   "id": "e0b98dc2",
   "metadata": {},
   "outputs": [],
   "source": [
    "# En cas d'erreur, installer url avec la console (cmd):\n",
    "# conda install -c anaconda urllib3\n",
    "\n",
    "from urllib import request\n",
    "import ssl\n",
    "\n",
    "def get_html_from(website='https://www.samudelenvironnement.org/'):\n",
    "    mystr=\"\"\n",
    "    context = ssl._create_unverified_context()\n",
    "    with request.urlopen(website,context=context) as fp:\n",
    "        mybytes = fp.read()\n",
    "        mystr = mybytes.decode(\"utf8\")\n",
    "    return mystr\n",
    "\n",
    "mystr = get_html_from()"
   ]
  },
  {
   "cell_type": "code",
   "execution_count": null,
   "id": "430e084d",
   "metadata": {},
   "outputs": [],
   "source": [
    "#Pour avoir un apercu de de que python recoit:\n",
    "mystr[:1000]"
   ]
  },
  {
   "cell_type": "code",
   "execution_count": null,
   "id": "385c5fe9",
   "metadata": {},
   "outputs": [],
   "source": [
    "# Combien de fois apparaît le mot SAMU?\n",
    "\n"
   ]
  },
  {
   "cell_type": "code",
   "execution_count": null,
   "id": "87349f14",
   "metadata": {},
   "outputs": [],
   "source": [
    "# Combien de liens? (commençant par '<a ')\n",
    "\n"
   ]
  },
  {
   "cell_type": "code",
   "execution_count": null,
   "id": "9d44ff74",
   "metadata": {},
   "outputs": [],
   "source": [
    "# Combien d'images? (commençant par '<img ')\n",
    "\n"
   ]
  },
  {
   "cell_type": "code",
   "execution_count": null,
   "id": "20599f3a",
   "metadata": {},
   "outputs": [],
   "source": [
    "# Quels sont les 10 mots qui apparaissent le plus de fois?\n",
    "\n"
   ]
  },
  {
   "cell_type": "code",
   "execution_count": null,
   "id": "e9a4ea9b",
   "metadata": {},
   "outputs": [],
   "source": [
    "# Parle t'on d'apéro?\n",
    "\n"
   ]
  },
  {
   "cell_type": "code",
   "execution_count": null,
   "id": "5a39d1db",
   "metadata": {},
   "outputs": [],
   "source": [
    "# Faire une description du site à partir de ces éléments\n",
    "\n"
   ]
  }
 ],
 "metadata": {
  "kernelspec": {
   "display_name": "Python 3 (ipykernel)",
   "language": "python",
   "name": "python3"
  },
  "language_info": {
   "codemirror_mode": {
    "name": "ipython",
    "version": 3
   },
   "file_extension": ".py",
   "mimetype": "text/x-python",
   "name": "python",
   "nbconvert_exporter": "python",
   "pygments_lexer": "ipython3",
   "version": "3.11.4"
  }
 },
 "nbformat": 4,
 "nbformat_minor": 5
}
