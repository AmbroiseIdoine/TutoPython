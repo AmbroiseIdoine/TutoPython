{
 "cells": [
  {
   "cell_type": "code",
   "execution_count": null,
   "id": "49c70f82",
   "metadata": {},
   "outputs": [],
   "source": [
    "# Exo 1: a est il égal à b?\n",
    "\n",
    "a=\"monsieur\"\n",
    "b=\"Monsieur\"\n",
    "\n",
    "res=\n",
    "print(res)"
   ]
  },
  {
   "cell_type": "code",
   "execution_count": null,
   "id": "993b7f2a",
   "metadata": {},
   "outputs": [],
   "source": [
    "# Exo 2: a ou b est il vrai?\n",
    "\n",
    "a=True\n",
    "b=False\n",
    "\n",
    "res=\n",
    "print(res)"
   ]
  },
  {
   "cell_type": "code",
   "execution_count": null,
   "id": "26454f49",
   "metadata": {},
   "outputs": [],
   "source": [
    "# Exo 3: c est il entre a et b?\n",
    "\n",
    "a=45\n",
    "b=76\n",
    "c=56\n",
    "\n",
    "res=\n",
    "print(res)"
   ]
  }
 ],
 "metadata": {
  "kernelspec": {
   "display_name": "Python 3 (ipykernel)",
   "language": "python",
   "name": "python3"
  },
  "language_info": {
   "codemirror_mode": {
    "name": "ipython",
    "version": 3
   },
   "file_extension": ".py",
   "mimetype": "text/x-python",
   "name": "python",
   "nbconvert_exporter": "python",
   "pygments_lexer": "ipython3",
   "version": "3.11.4"
  }
 },
 "nbformat": 4,
 "nbformat_minor": 5
}
