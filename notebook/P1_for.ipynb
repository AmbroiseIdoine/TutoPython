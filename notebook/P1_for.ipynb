{
 "cells": [
  {
   "cell_type": "markdown",
   "id": "c8e55891",
   "metadata": {},
   "source": [
    "# Boucle For "
   ]
  },
  {
   "cell_type": "code",
   "execution_count": null,
   "id": "2df2c543",
   "metadata": {},
   "outputs": [],
   "source": [
    "# print chaque mot\n",
    "tab = [\"un\",\"deux\",\"trois\"]"
   ]
  },
  {
   "cell_type": "code",
   "execution_count": null,
   "id": "ece9f949",
   "metadata": {},
   "outputs": [],
   "source": [
    "# rajoute x à la fin de la liste tab\n",
    "tab = [\"un\",\"deux\",\"trois\"]\n",
    "x = \"quatre\"\n",
    "\n",
    "print(tab)"
   ]
  },
  {
   "cell_type": "code",
   "execution_count": null,
   "id": "e58a9539",
   "metadata": {},
   "outputs": [],
   "source": [
    "# rajoute 10 fois 1:\n",
    "\n",
    "res=0\n",
    "for i in range(10):\n",
    "    #...\n",
    "\n",
    "return res"
   ]
  },
  {
   "cell_type": "code",
   "execution_count": null,
   "id": "08ac796b",
   "metadata": {},
   "outputs": [],
   "source": [
    "# Imprime chaque nombre de la liste si il est < 10\n",
    "tab = [78,8,65,53,4,4,88,6.53]\n",
    "\n"
   ]
  },
  {
   "cell_type": "code",
   "execution_count": null,
   "id": "61ffe7a9",
   "metadata": {},
   "outputs": [],
   "source": [
    "# Si le mot a moins de 5 lettre, imprime le\n",
    "mots = [\"la\",\"poulette\",\"mange\",\"du\",\"grain\"]\n",
    "\n"
   ]
  }
 ],
 "metadata": {
  "kernelspec": {
   "display_name": "Python 3 (ipykernel)",
   "language": "python",
   "name": "python3"
  },
  "language_info": {
   "codemirror_mode": {
    "name": "ipython",
    "version": 3
   },
   "file_extension": ".py",
   "mimetype": "text/x-python",
   "name": "python",
   "nbconvert_exporter": "python",
   "pygments_lexer": "ipython3",
   "version": "3.11.4"
  }
 },
 "nbformat": 4,
 "nbformat_minor": 5
}
